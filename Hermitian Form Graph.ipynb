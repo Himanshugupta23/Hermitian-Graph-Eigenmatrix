{
 "cells": [
  {
   "cell_type": "markdown",
   "metadata": {},
   "source": [
    "#### Defining Negative Q-binomial coefficient and its sign"
   ]
  },
  {
   "cell_type": "code",
   "execution_count": 100,
   "metadata": {},
   "outputs": [],
   "source": [
    "def negq(m,l,q):\n",
    "    return prod(((-q)^(m-i+1)-1)/((-q)^i-1) for i in [1..l])"
   ]
  },
  {
   "cell_type": "code",
   "execution_count": 46,
   "metadata": {},
   "outputs": [],
   "source": [
    "def signcheck(m,l):\n",
    "    return (-1)^((m+1)*l)"
   ]
  },
  {
   "cell_type": "code",
   "execution_count": 47,
   "metadata": {},
   "outputs": [],
   "source": [
    "def check(m,l,q):\n",
    "    return signcheck(m,l) == sign(negq(m,l,q))"
   ]
  },
  {
   "cell_type": "code",
   "execution_count": 48,
   "metadata": {},
   "outputs": [],
   "source": [
    "def fgh(q,m):\n",
    "    return ((((-q)^(m+2)-1)/((-q)-1))*(((-q)^(m+1)-1)/((-q)^2-1))) == negq(m+2,m,q)"
   ]
  },
  {
   "cell_type": "code",
   "execution_count": 53,
   "metadata": {},
   "outputs": [
    {
     "data": {
      "text/plain": [
       "True"
      ]
     },
     "execution_count": 53,
     "metadata": {},
     "output_type": "execute_result"
    }
   ],
   "source": [
    "fgh(6,13)"
   ]
  },
  {
   "cell_type": "markdown",
   "metadata": {},
   "source": [
    "#### Defining h-th term of Q_j(i) and its sign"
   ]
  },
  {
   "cell_type": "code",
   "execution_count": 54,
   "metadata": {},
   "outputs": [],
   "source": [
    "def hth_term(d,q,i,j,h):\n",
    "    return ((-1)^j)*((-q)^(binomial(j-h,2)+h*d))*(negq(d-h,d-j,q))*(negq(d-i,h,q))"
   ]
  },
  {
   "cell_type": "code",
   "execution_count": 55,
   "metadata": {},
   "outputs": [],
   "source": [
    "def sign_hth_term(d,q,i,j,h):\n",
    "    return sign(hth_term(d,q,i,j,h))"
   ]
  },
  {
   "cell_type": "code",
   "execution_count": 56,
   "metadata": {},
   "outputs": [],
   "source": [
    "def sign_of_series(d,q,i,j):\n",
    "    if j < d-i:\n",
    "        return [sign_hth_term(d,q,i,j,h) for h in range(j+1)]\n",
    "    else:\n",
    "        return [sign_hth_term(d,q,i,j,h) for h in range(d-i+1)]"
   ]
  },
  {
   "cell_type": "code",
   "execution_count": 57,
   "metadata": {},
   "outputs": [],
   "source": [
    "def sign_of_series_big(d,q,i):\n",
    "        return [sign_of_series(d,q,i,j) for j in [1..d]] "
   ]
  },
  {
   "cell_type": "code",
   "execution_count": 59,
   "metadata": {},
   "outputs": [],
   "source": [
    "def polynom(d,q,i,j):\n",
    "    if j < d-i:\n",
    "        return sum(((-1)^j)*((-q)^(binomial(j-h,2)+h*d))*(negq(d-h,d-j,q))*(negq(d-i,h,q)) for h in range(j+1))\n",
    "    else:\n",
    "        return sum(((-1)^j)*((-q)^(binomial(j-h,2)+h*d))*(negq(d-h,d-j,q))*(negq(d-i,h,q)) for h in range(d-i+1))"
   ]
  },
  {
   "cell_type": "code",
   "execution_count": 99,
   "metadata": {},
   "outputs": [
    {
     "data": {
      "text/plain": [
       "-0.999450700357045"
      ]
     },
     "execution_count": 99,
     "metadata": {},
     "output_type": "execute_result"
    }
   ],
   "source": [
    "A = [polynom(15,2,i,12) for i in [14..15]]\n",
    "n(A[0]/A[1])"
   ]
  },
  {
   "cell_type": "code",
   "execution_count": 61,
   "metadata": {},
   "outputs": [
    {
     "data": {
      "text/plain": [
       "50"
      ]
     },
     "execution_count": 61,
     "metadata": {},
     "output_type": "execute_result"
    }
   ],
   "source": []
  },
  {
   "cell_type": "code",
   "execution_count": null,
   "metadata": {},
   "outputs": [],
   "source": []
  }
 ],
 "metadata": {
  "kernelspec": {
   "display_name": "SageMath 8.8",
   "language": "sage",
   "name": "sagemath"
  },
  "language_info": {
   "codemirror_mode": {
    "name": "ipython",
    "version": 3
   },
   "file_extension": ".py",
   "mimetype": "text/x-python",
   "name": "python",
   "nbconvert_exporter": "python",
   "pygments_lexer": "ipython3",
   "version": "3.7.3"
  }
 },
 "nbformat": 4,
 "nbformat_minor": 2
}
