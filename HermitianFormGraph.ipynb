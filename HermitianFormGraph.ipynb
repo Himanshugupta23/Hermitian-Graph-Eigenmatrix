{
 "cells": [
  {
   "cell_type": "code",
   "execution_count": 3,
   "metadata": {},
   "outputs": [],
   "source": [
    "# Here we define the ij-th entry of eigenmatrix for any parameters.\n",
    "# We use the inbuilt functions: binomial, and q_binomial of Sagemath.\n",
    "def Q(d,q,i,j): \n",
    "    l = min(j,d-i)\n",
    "    return sum(((-1)^j)*((-q)^(binomial(j-h,2)+h*d))*(q_binomial(d-h,d-j,-q))*(q_binomial(d-i,h,-q)) for h in [0..l])"
   ]
  },
  {
   "cell_type": "code",
   "execution_count": 4,
   "metadata": {},
   "outputs": [],
   "source": [
    "# Here we define the eigenmatrix of Hermitian forms graphs for any d and q.\n",
    "def P_Matrix(d,q):\n",
    "    return matrix(SR, d+1, d+1, lambda i, j: Q(d,q,i,j))"
   ]
  },
  {
   "cell_type": "code",
   "execution_count": 36,
   "metadata": {},
   "outputs": [
    {
     "data": {
      "text/html": [
       "<html><script type=\"math/tex; mode=display\">\\newcommand{\\Bold}[1]{\\mathbf{#1}}\\verb|q=2,|\\phantom{\\verb!x!}\\verb|d=2:| \\left(\\begin{array}{rrr}\n",
       "1 & 5 & 10 \\\\\n",
       "1 & -3 & 2 \\\\\n",
       "1 & 1 & -2\n",
       "\\end{array}\\right)</script></html>"
      ],
      "text/latex": [
       "\\begin{math}\n",
       "\\newcommand{\\Bold}[1]{\\mathbf{#1}}\\verb|q=2,|\\phantom{\\verb!x!}\\verb|d=2:| \\left(\\begin{array}{rrr}\n",
       "1 & 5 & 10 \\\\\n",
       "1 & -3 & 2 \\\\\n",
       "1 & 1 & -2\n",
       "\\end{array}\\right)\n",
       "\\end{math}"
      ],
      "text/plain": [
       "'q=2, d=2:' [ 1  5 10]\n",
       "[ 1 -3  2]\n",
       "[ 1  1 -2]"
      ]
     },
     "metadata": {},
     "output_type": "display_data"
    },
    {
     "data": {
      "text/html": [
       "<html><script type=\"math/tex; mode=display\">\\newcommand{\\Bold}[1]{\\mathbf{#1}}\\verb|q=2,|\\phantom{\\verb!x!}\\verb|d=3:| \\left(\\begin{array}{rrrr}\n",
       "1 & 21 & 210 & 280 \\\\\n",
       "1 & -11 & 50 & -40 \\\\\n",
       "1 & 5 & 2 & -8 \\\\\n",
       "1 & -3 & -6 & 8\n",
       "\\end{array}\\right)</script></html>"
      ],
      "text/latex": [
       "\\begin{math}\n",
       "\\newcommand{\\Bold}[1]{\\mathbf{#1}}\\verb|q=2,|\\phantom{\\verb!x!}\\verb|d=3:| \\left(\\begin{array}{rrrr}\n",
       "1 & 21 & 210 & 280 \\\\\n",
       "1 & -11 & 50 & -40 \\\\\n",
       "1 & 5 & 2 & -8 \\\\\n",
       "1 & -3 & -6 & 8\n",
       "\\end{array}\\right)\n",
       "\\end{math}"
      ],
      "text/plain": [
       "'q=2, d=3:' [  1  21 210 280]\n",
       "[  1 -11  50 -40]\n",
       "[  1   5   2  -8]\n",
       "[  1  -3  -6   8]"
      ]
     },
     "metadata": {},
     "output_type": "display_data"
    },
    {
     "data": {
      "text/html": [
       "<html><script type=\"math/tex; mode=display\">\\newcommand{\\Bold}[1]{\\mathbf{#1}}\\verb|q=2,|\\phantom{\\verb!x!}\\verb|d=4:| \\left(\\begin{array}{rrrrr}\n",
       "1 & 85 & 3570 & 23800 & 38080 \\\\\n",
       "1 & -43 & 882 & -3080 & 2240 \\\\\n",
       "1 & 21 & 178 & 120 & -320 \\\\\n",
       "1 & -11 & 18 & 56 & -64 \\\\\n",
       "1 & 5 & -30 & -40 & 64\n",
       "\\end{array}\\right)</script></html>"
      ],
      "text/latex": [
       "\\begin{math}\n",
       "\\newcommand{\\Bold}[1]{\\mathbf{#1}}\\verb|q=2,|\\phantom{\\verb!x!}\\verb|d=4:| \\left(\\begin{array}{rrrrr}\n",
       "1 & 85 & 3570 & 23800 & 38080 \\\\\n",
       "1 & -43 & 882 & -3080 & 2240 \\\\\n",
       "1 & 21 & 178 & 120 & -320 \\\\\n",
       "1 & -11 & 18 & 56 & -64 \\\\\n",
       "1 & 5 & -30 & -40 & 64\n",
       "\\end{array}\\right)\n",
       "\\end{math}"
      ],
      "text/plain": [
       "'q=2, d=4:' [    1    85  3570 23800 38080]\n",
       "[    1   -43   882 -3080  2240]\n",
       "[    1    21   178   120  -320]\n",
       "[    1   -11    18    56   -64]\n",
       "[    1     5   -30   -40    64]"
      ]
     },
     "metadata": {},
     "output_type": "display_data"
    },
    {
     "data": {
      "text/html": [
       "<html><script type=\"math/tex; mode=display\">\\newcommand{\\Bold}[1]{\\mathbf{#1}}\\verb|q=2,|\\phantom{\\verb!x!}\\verb|d=5:| \\left(\\begin{array}{rrrrrr}\n",
       "1 & 341 & 57970 & 1623160 & 12985280 & 18887680 \\\\\n",
       "1 & -171 & 14450 & -204680 & 799680 & -609280 \\\\\n",
       "1 & 85 & 3442 & 21112 & 11200 & -35840 \\\\\n",
       "1 & -43 & 754 & -1672 & -4160 & 5120 \\\\\n",
       "1 & 21 & 50 & -520 & -576 & 1024 \\\\\n",
       "1 & -11 & -110 & 440 & 704 & -1024\n",
       "\\end{array}\\right)</script></html>"
      ],
      "text/latex": [
       "\\begin{math}\n",
       "\\newcommand{\\Bold}[1]{\\mathbf{#1}}\\verb|q=2,|\\phantom{\\verb!x!}\\verb|d=5:| \\left(\\begin{array}{rrrrrr}\n",
       "1 & 341 & 57970 & 1623160 & 12985280 & 18887680 \\\\\n",
       "1 & -171 & 14450 & -204680 & 799680 & -609280 \\\\\n",
       "1 & 85 & 3442 & 21112 & 11200 & -35840 \\\\\n",
       "1 & -43 & 754 & -1672 & -4160 & 5120 \\\\\n",
       "1 & 21 & 50 & -520 & -576 & 1024 \\\\\n",
       "1 & -11 & -110 & 440 & 704 & -1024\n",
       "\\end{array}\\right)\n",
       "\\end{math}"
      ],
      "text/plain": [
       "'q=2, d=5:' [       1      341    57970  1623160 12985280 18887680]\n",
       "[       1     -171    14450  -204680   799680  -609280]\n",
       "[       1       85     3442    21112    11200   -35840]\n",
       "[       1      -43      754    -1672    -4160     5120]\n",
       "[       1       21       50     -520     -576     1024]\n",
       "[       1      -11     -110      440      704    -1024]"
      ]
     },
     "metadata": {},
     "output_type": "display_data"
    }
   ],
   "source": [
    "# Here we verify the conjectures for q=2 and d=2,3,4,5.\n",
    "show(\"q=2, d=2:\",P_Matrix(2,2));\n",
    "show(\"q=2, d=3:\",P_Matrix(3,2));\n",
    "show(\"q=2, d=4:\",P_Matrix(4,2));\n",
    "show(\"q=2, d=5:\",P_Matrix(5,2))"
   ]
  },
  {
   "cell_type": "code",
   "execution_count": 35,
   "metadata": {},
   "outputs": [
    {
     "data": {
      "text/html": [
       "<html><script type=\"math/tex; mode=display\">\\newcommand{\\Bold}[1]{\\mathbf{#1}}\\verb|q=3,|\\phantom{\\verb!x!}\\verb|d=2:| \\left(\\begin{array}{rrr}\n",
       "1 & 20 & 60 \\\\\n",
       "1 & -7 & 6 \\\\\n",
       "1 & 2 & -3\n",
       "\\end{array}\\right)</script></html>"
      ],
      "text/latex": [
       "\\begin{math}\n",
       "\\newcommand{\\Bold}[1]{\\mathbf{#1}}\\verb|q=3,|\\phantom{\\verb!x!}\\verb|d=2:| \\left(\\begin{array}{rrr}\n",
       "1 & 20 & 60 \\\\\n",
       "1 & -7 & 6 \\\\\n",
       "1 & 2 & -3\n",
       "\\end{array}\\right)\n",
       "\\end{math}"
      ],
      "text/plain": [
       "'q=3, d=2:' [ 1 20 60]\n",
       "[ 1 -7  6]\n",
       "[ 1  2 -3]"
      ]
     },
     "metadata": {},
     "output_type": "display_data"
    },
    {
     "data": {
      "text/html": [
       "<html><script type=\"math/tex; mode=display\">\\newcommand{\\Bold}[1]{\\mathbf{#1}}\\verb|q=3,|\\phantom{\\verb!x!}\\verb|d=3:| \\left(\\begin{array}{rrrr}\n",
       "1 & 182 & 5460 & 14040 \\\\\n",
       "1 & -61 & 600 & -540 \\\\\n",
       "1 & 20 & 33 & -54 \\\\\n",
       "1 & -7 & -21 & 27\n",
       "\\end{array}\\right)</script></html>"
      ],
      "text/latex": [
       "\\begin{math}\n",
       "\\newcommand{\\Bold}[1]{\\mathbf{#1}}\\verb|q=3,|\\phantom{\\verb!x!}\\verb|d=3:| \\left(\\begin{array}{rrrr}\n",
       "1 & 182 & 5460 & 14040 \\\\\n",
       "1 & -61 & 600 & -540 \\\\\n",
       "1 & 20 & 33 & -54 \\\\\n",
       "1 & -7 & -21 & 27\n",
       "\\end{array}\\right)\n",
       "\\end{math}"
      ],
      "text/plain": [
       "'q=3, d=3:' [    1   182  5460 14040]\n",
       "[    1   -61   600  -540]\n",
       "[    1    20    33   -54]\n",
       "[    1    -7   -21    27]"
      ]
     },
     "metadata": {},
     "output_type": "display_data"
    },
    {
     "data": {
      "text/html": [
       "<html><script type=\"math/tex; mode=display\">\\newcommand{\\Bold}[1]{\\mathbf{#1}}\\verb|q=3,|\\phantom{\\verb!x!}\\verb|d=4:| \\left(\\begin{array}{rrrrr}\n",
       "1 & 1640 & 447720 & 11512800 & 31084560 \\\\\n",
       "1 & -547 & 49686 & -428220 & 379080 \\\\\n",
       "1 & 182 & 5217 & 9180 & -14580 \\\\\n",
       "1 & -61 & 357 & 1161 & -1458 \\\\\n",
       "1 & 20 & -210 & -540 & 729\n",
       "\\end{array}\\right)</script></html>"
      ],
      "text/latex": [
       "\\begin{math}\n",
       "\\newcommand{\\Bold}[1]{\\mathbf{#1}}\\verb|q=3,|\\phantom{\\verb!x!}\\verb|d=4:| \\left(\\begin{array}{rrrrr}\n",
       "1 & 1640 & 447720 & 11512800 & 31084560 \\\\\n",
       "1 & -547 & 49686 & -428220 & 379080 \\\\\n",
       "1 & 182 & 5217 & 9180 & -14580 \\\\\n",
       "1 & -61 & 357 & 1161 & -1458 \\\\\n",
       "1 & 20 & -210 & -540 & 729\n",
       "\\end{array}\\right)\n",
       "\\end{math}"
      ],
      "text/plain": [
       "'q=3, d=4:' [       1     1640   447720 11512800 31084560]\n",
       "[       1     -547    49686  -428220   379080]\n",
       "[       1      182     5217     9180   -14580]\n",
       "[       1      -61      357     1161    -1458]\n",
       "[       1       20     -210     -540      729]"
      ]
     },
     "metadata": {},
     "output_type": "display_data"
    },
    {
     "data": {
      "text/html": [
       "<html><script type=\"math/tex; mode=display\">\\newcommand{\\Bold}[1]{\\mathbf{#1}}\\verb|q=3,|\\phantom{\\verb!x!}\\verb|d=5:| \\left(\\begin{array}{rrrrrr}\n",
       "1 & 14762 & 36314520 & 8497597680 & 229435137360 & 609319545120 \\\\\n",
       "1 & -4921 & 4034400 & -314875080 & 2828694960 & -2517849360 \\\\\n",
       "1 & 1640 & 445533 & 11114766 & 19143540 & -30705480 \\\\\n",
       "1 & -547 & 47499 & -294813 & -933120 & 1180980 \\\\\n",
       "1 & 182 & 3030 & -34560 & -86751 & 118098 \\\\\n",
       "1 & -61 & -1830 & 16470 & 44469 & -59049\n",
       "\\end{array}\\right)</script></html>"
      ],
      "text/latex": [
       "\\begin{math}\n",
       "\\newcommand{\\Bold}[1]{\\mathbf{#1}}\\verb|q=3,|\\phantom{\\verb!x!}\\verb|d=5:| \\left(\\begin{array}{rrrrrr}\n",
       "1 & 14762 & 36314520 & 8497597680 & 229435137360 & 609319545120 \\\\\n",
       "1 & -4921 & 4034400 & -314875080 & 2828694960 & -2517849360 \\\\\n",
       "1 & 1640 & 445533 & 11114766 & 19143540 & -30705480 \\\\\n",
       "1 & -547 & 47499 & -294813 & -933120 & 1180980 \\\\\n",
       "1 & 182 & 3030 & -34560 & -86751 & 118098 \\\\\n",
       "1 & -61 & -1830 & 16470 & 44469 & -59049\n",
       "\\end{array}\\right)\n",
       "\\end{math}"
      ],
      "text/plain": [
       "'q=3, d=5:' [           1        14762     36314520   8497597680 229435137360 609319545120]\n",
       "[           1        -4921      4034400   -314875080   2828694960  -2517849360]\n",
       "[           1         1640       445533     11114766     19143540    -30705480]\n",
       "[           1         -547        47499      -294813      -933120      1180980]\n",
       "[           1          182         3030       -34560       -86751       118098]\n",
       "[           1          -61        -1830        16470        44469       -59049]"
      ]
     },
     "metadata": {},
     "output_type": "display_data"
    }
   ],
   "source": [
    "# Here we verify the conjectures for q=3 and d=2,3,4,5.\n",
    "show(\"q=3, d=2:\",P_Matrix(2,3));\n",
    "show(\"q=3, d=3:\",P_Matrix(3,3));\n",
    "show(\"q=3, d=4:\",P_Matrix(4,3));\n",
    "show(\"q=3, d=5:\",P_Matrix(5,3))"
   ]
  },
  {
   "cell_type": "code",
   "execution_count": null,
   "metadata": {},
   "outputs": [],
   "source": []
  }
 ],
 "metadata": {
  "kernelspec": {
   "display_name": "SageMath 9.2",
   "language": "sage",
   "name": "sagemath"
  },
  "language_info": {
   "codemirror_mode": {
    "name": "ipython",
    "version": 3
   },
   "file_extension": ".py",
   "mimetype": "text/x-python",
   "name": "python",
   "nbconvert_exporter": "python",
   "pygments_lexer": "ipython3",
   "version": "3.7.3"
  }
 },
 "nbformat": 4,
 "nbformat_minor": 2
}
